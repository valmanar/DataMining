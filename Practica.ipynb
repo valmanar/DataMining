{
 "cells": [
  {
   "cell_type": "markdown",
   "metadata": {},
   "source": [
    "A continuación se muestra una matriz de expresión genética:"
   ]
  },
  {
   "cell_type": "code",
   "execution_count": 33,
   "metadata": {},
   "outputs": [
    {
     "data": {
      "text/html": [
       "<table>\n",
       "<thead><tr><th scope=col>X</th><th scope=col>X212284_x_at</th><th scope=col>X212869_x_at</th><th scope=col>X213614_x_at</th><th scope=col>X212391_x_at</th><th scope=col>X201257_x_at</th><th scope=col>AFFX.hum_alu_at</th><th scope=col>X206559_x_at</th><th scope=col>X214003_x_at</th><th scope=col>X208755_x_at</th><th scope=col>...</th><th scope=col>X214981_at</th><th scope=col>X216660_at</th><th scope=col>X217101_at</th><th scope=col>X218922_s_at</th><th scope=col>X203953_s_at</th><th scope=col>X221755_at</th><th scope=col>X208278_s_at</th><th scope=col>X207162_s_at</th><th scope=col>X206824_at</th><th scope=col>X218840_s_at</th></tr></thead>\n",
       "<tbody>\n",
       "\t<tr><td>Normal.BC0043N</td><td> 9167.03      </td><td> 7380.27      </td><td>8341.82       </td><td> 7944.99      </td><td> 8367.28      </td><td>7884.22       </td><td>6209.89       </td><td>6009.60       </td><td>9017.07       </td><td>...           </td><td>13.9187       </td><td>30.9902       </td><td>26.8305       </td><td>30.6226       </td><td>13.6677       </td><td>23.7455       </td><td>29.1401       </td><td>23.8904       </td><td>64.3171       </td><td>25.5825       </td></tr>\n",
       "\t<tr><td>Cancer.BC0043T</td><td>10635.90      </td><td>11010.80      </td><td>9859.02       </td><td>10493.60      </td><td>10805.70      </td><td>8507.10       </td><td>9060.41       </td><td>9426.21       </td><td>8674.11       </td><td>...           </td><td>17.2673       </td><td>56.3875       </td><td>16.9442       </td><td>14.5954       </td><td>15.2555       </td><td>19.2764       </td><td>16.4308       </td><td>26.5672       </td><td>53.7115       </td><td>28.7201       </td></tr>\n",
       "\t<tr><td>Normal.BC0051N</td><td> 8015.29      </td><td> 6112.62      </td><td>8287.92       </td><td> 7360.60      </td><td> 7060.93      </td><td>8003.40       </td><td>7140.51       </td><td>6029.11       </td><td>7026.17       </td><td>...           </td><td>26.6429       </td><td>29.1446       </td><td>23.8505       </td><td>32.2064       </td><td>15.9346       </td><td>27.4183       </td><td>21.6383       </td><td>21.3962       </td><td>27.9609       </td><td>45.1721       </td></tr>\n",
       "\t<tr><td>Cancer.BC0051T</td><td> 9081.20      </td><td> 8925.35      </td><td>8276.54       </td><td> 9021.02      </td><td> 8622.68      </td><td>8925.17       </td><td>7862.39       </td><td>6847.31       </td><td>9651.01       </td><td>...           </td><td>37.5716       </td><td>30.0083       </td><td>20.7826       </td><td>22.1020       </td><td>27.5567       </td><td>26.4899       </td><td>26.3171       </td><td>16.6457       </td><td>41.5037       </td><td>25.8667       </td></tr>\n",
       "\t<tr><td>Normal.BC0057N</td><td> 9006.52      </td><td> 8338.44      </td><td>7069.53       </td><td> 7909.77      </td><td> 7348.80      </td><td>7966.06       </td><td>7120.25       </td><td>7903.76       </td><td>7387.18       </td><td>...           </td><td>36.4167       </td><td>29.9436       </td><td>45.3716       </td><td>31.1614       </td><td>31.3397       </td><td>32.0059       </td><td>29.1746       </td><td>21.2647       </td><td>34.7236       </td><td>35.4706       </td></tr>\n",
       "\t<tr><td>Cancer.BC0057T</td><td> 8307.87      </td><td> 7295.69      </td><td>7048.75       </td><td> 7111.87      </td><td> 6372.62      </td><td>8056.31       </td><td>6406.97       </td><td>6256.54       </td><td>7098.11       </td><td>...           </td><td>21.3444       </td><td>54.1291       </td><td>37.4840       </td><td>22.2405       </td><td>50.9866       </td><td>26.8458       </td><td>33.2448       </td><td>18.3316       </td><td>24.6310       </td><td>24.8679       </td></tr>\n",
       "</tbody>\n",
       "</table>\n"
      ],
      "text/latex": [
       "\\begin{tabular}{r|llllllllllllllllllllllllllllllllllllllllllllllllllllllllllllllllllllllllllllllllllllllllllllllllllllllllllllllllllllllllllllllllllllllllllllllllllllllllllllllllllllllllllllllllllllllllllllllllllllllllllllllllllllllllllllllllllllllllllllllllllllllllllllllllllllllllllllllllllllllllllllllllllllllllllllllllllllllllllllllllllllllllllllllllllllllllllllllllllllllllllllllllllllllllllllllllllllllllllllllllllllllllllllllllllllllllllllllllllllllllllllllllllllllllllllllllllllllllllllllllll}\n",
       " X & X212284\\_x\\_at & X212869\\_x\\_at & X213614\\_x\\_at & X212391\\_x\\_at & X201257\\_x\\_at & AFFX.hum\\_alu\\_at & X206559\\_x\\_at & X214003\\_x\\_at & X208755\\_x\\_at & ... & X214981\\_at & X216660\\_at & X217101\\_at & X218922\\_s\\_at & X203953\\_s\\_at & X221755\\_at & X208278\\_s\\_at & X207162\\_s\\_at & X206824\\_at & X218840\\_s\\_at\\\\\n",
       "\\hline\n",
       "\t Normal.BC0043N &  9167.03       &  7380.27       & 8341.82        &  7944.99       &  8367.28       & 7884.22        & 6209.89        & 6009.60        & 9017.07        & ...            & 13.9187        & 30.9902        & 26.8305        & 30.6226        & 13.6677        & 23.7455        & 29.1401        & 23.8904        & 64.3171        & 25.5825       \\\\\n",
       "\t Cancer.BC0043T & 10635.90       & 11010.80       & 9859.02        & 10493.60       & 10805.70       & 8507.10        & 9060.41        & 9426.21        & 8674.11        & ...            & 17.2673        & 56.3875        & 16.9442        & 14.5954        & 15.2555        & 19.2764        & 16.4308        & 26.5672        & 53.7115        & 28.7201       \\\\\n",
       "\t Normal.BC0051N &  8015.29       &  6112.62       & 8287.92        &  7360.60       &  7060.93       & 8003.40        & 7140.51        & 6029.11        & 7026.17        & ...            & 26.6429        & 29.1446        & 23.8505        & 32.2064        & 15.9346        & 27.4183        & 21.6383        & 21.3962        & 27.9609        & 45.1721       \\\\\n",
       "\t Cancer.BC0051T &  9081.20       &  8925.35       & 8276.54        &  9021.02       &  8622.68       & 8925.17        & 7862.39        & 6847.31        & 9651.01        & ...            & 37.5716        & 30.0083        & 20.7826        & 22.1020        & 27.5567        & 26.4899        & 26.3171        & 16.6457        & 41.5037        & 25.8667       \\\\\n",
       "\t Normal.BC0057N &  9006.52       &  8338.44       & 7069.53        &  7909.77       &  7348.80       & 7966.06        & 7120.25        & 7903.76        & 7387.18        & ...            & 36.4167        & 29.9436        & 45.3716        & 31.1614        & 31.3397        & 32.0059        & 29.1746        & 21.2647        & 34.7236        & 35.4706       \\\\\n",
       "\t Cancer.BC0057T &  8307.87       &  7295.69       & 7048.75        &  7111.87       &  6372.62       & 8056.31        & 6406.97        & 6256.54        & 7098.11        & ...            & 21.3444        & 54.1291        & 37.4840        & 22.2405        & 50.9866        & 26.8458        & 33.2448        & 18.3316        & 24.6310        & 24.8679       \\\\\n",
       "\\end{tabular}\n"
      ],
      "text/markdown": [
       "\n",
       "X | X212284_x_at | X212869_x_at | X213614_x_at | X212391_x_at | X201257_x_at | AFFX.hum_alu_at | X206559_x_at | X214003_x_at | X208755_x_at | ... | X214981_at | X216660_at | X217101_at | X218922_s_at | X203953_s_at | X221755_at | X208278_s_at | X207162_s_at | X206824_at | X218840_s_at | \n",
       "|---|---|---|---|---|---|\n",
       "| Normal.BC0043N |  9167.03       |  7380.27       | 8341.82        |  7944.99       |  8367.28       | 7884.22        | 6209.89        | 6009.60        | 9017.07        | ...            | 13.9187        | 30.9902        | 26.8305        | 30.6226        | 13.6677        | 23.7455        | 29.1401        | 23.8904        | 64.3171        | 25.5825        | \n",
       "| Cancer.BC0043T | 10635.90       | 11010.80       | 9859.02        | 10493.60       | 10805.70       | 8507.10        | 9060.41        | 9426.21        | 8674.11        | ...            | 17.2673        | 56.3875        | 16.9442        | 14.5954        | 15.2555        | 19.2764        | 16.4308        | 26.5672        | 53.7115        | 28.7201        | \n",
       "| Normal.BC0051N |  8015.29       |  6112.62       | 8287.92        |  7360.60       |  7060.93       | 8003.40        | 7140.51        | 6029.11        | 7026.17        | ...            | 26.6429        | 29.1446        | 23.8505        | 32.2064        | 15.9346        | 27.4183        | 21.6383        | 21.3962        | 27.9609        | 45.1721        | \n",
       "| Cancer.BC0051T |  9081.20       |  8925.35       | 8276.54        |  9021.02       |  8622.68       | 8925.17        | 7862.39        | 6847.31        | 9651.01        | ...            | 37.5716        | 30.0083        | 20.7826        | 22.1020        | 27.5567        | 26.4899        | 26.3171        | 16.6457        | 41.5037        | 25.8667        | \n",
       "| Normal.BC0057N |  9006.52       |  8338.44       | 7069.53        |  7909.77       |  7348.80       | 7966.06        | 7120.25        | 7903.76        | 7387.18        | ...            | 36.4167        | 29.9436        | 45.3716        | 31.1614        | 31.3397        | 32.0059        | 29.1746        | 21.2647        | 34.7236        | 35.4706        | \n",
       "| Cancer.BC0057T |  8307.87       |  7295.69       | 7048.75        |  7111.87       |  6372.62       | 8056.31        | 6406.97        | 6256.54        | 7098.11        | ...            | 21.3444        | 54.1291        | 37.4840        | 22.2405        | 50.9866        | 26.8458        | 33.2448        | 18.3316        | 24.6310        | 24.8679        | \n",
       "\n",
       "\n"
      ],
      "text/plain": [
       "  X              X212284_x_at X212869_x_at X213614_x_at X212391_x_at\n",
       "1 Normal.BC0043N  9167.03      7380.27     8341.82       7944.99    \n",
       "2 Cancer.BC0043T 10635.90     11010.80     9859.02      10493.60    \n",
       "3 Normal.BC0051N  8015.29      6112.62     8287.92       7360.60    \n",
       "4 Cancer.BC0051T  9081.20      8925.35     8276.54       9021.02    \n",
       "5 Normal.BC0057N  9006.52      8338.44     7069.53       7909.77    \n",
       "6 Cancer.BC0057T  8307.87      7295.69     7048.75       7111.87    \n",
       "  X201257_x_at AFFX.hum_alu_at X206559_x_at X214003_x_at X208755_x_at ...\n",
       "1  8367.28     7884.22         6209.89      6009.60      9017.07      ...\n",
       "2 10805.70     8507.10         9060.41      9426.21      8674.11      ...\n",
       "3  7060.93     8003.40         7140.51      6029.11      7026.17      ...\n",
       "4  8622.68     8925.17         7862.39      6847.31      9651.01      ...\n",
       "5  7348.80     7966.06         7120.25      7903.76      7387.18      ...\n",
       "6  6372.62     8056.31         6406.97      6256.54      7098.11      ...\n",
       "  X214981_at X216660_at X217101_at X218922_s_at X203953_s_at X221755_at\n",
       "1 13.9187    30.9902    26.8305    30.6226      13.6677      23.7455   \n",
       "2 17.2673    56.3875    16.9442    14.5954      15.2555      19.2764   \n",
       "3 26.6429    29.1446    23.8505    32.2064      15.9346      27.4183   \n",
       "4 37.5716    30.0083    20.7826    22.1020      27.5567      26.4899   \n",
       "5 36.4167    29.9436    45.3716    31.1614      31.3397      32.0059   \n",
       "6 21.3444    54.1291    37.4840    22.2405      50.9866      26.8458   \n",
       "  X208278_s_at X207162_s_at X206824_at X218840_s_at\n",
       "1 29.1401      23.8904      64.3171    25.5825     \n",
       "2 16.4308      26.5672      53.7115    28.7201     \n",
       "3 21.6383      21.3962      27.9609    45.1721     \n",
       "4 26.3171      16.6457      41.5037    25.8667     \n",
       "5 29.1746      21.2647      34.7236    35.4706     \n",
       "6 33.2448      18.3316      24.6310    24.8679     "
      ]
     },
     "metadata": {},
     "output_type": "display_data"
    }
   ],
   "source": [
    "genexp<-read.csv(\"practica/GEMatrixFiltered.csv\")\n",
    "head(genexp)"
   ]
  },
  {
   "cell_type": "code",
   "execution_count": 34,
   "metadata": {},
   "outputs": [
    {
     "data": {
      "text/html": [
       "482"
      ],
      "text/latex": [
       "482"
      ],
      "text/markdown": [
       "482"
      ],
      "text/plain": [
       "[1] 482"
      ]
     },
     "metadata": {},
     "output_type": "display_data"
    },
    {
     "data": {
      "text/html": [
       "86"
      ],
      "text/latex": [
       "86"
      ],
      "text/markdown": [
       "86"
      ],
      "text/plain": [
       "[1] 86"
      ]
     },
     "metadata": {},
     "output_type": "display_data"
    },
    {
     "data": {
      "image/png": "[encoded data removed]",
      "text/plain": [
       "plot without title"
      ]
     },
     "metadata": {},
     "output_type": "display_data"
    }
   ],
   "source": [
    "ncol(genexp)\n",
    "nrow(genexp)\n",
    "boxplot(genexp[,2:482])"
   ]
  },
  {
   "cell_type": "markdown",
   "metadata": {},
   "source": [
    "### Limpieza de datos:\n",
    "\n",
    "* Normalizar\n",
    "* ¿Existen outliers? Tratamiento de Outliers"
   ]
  },
  {
   "cell_type": "markdown",
   "metadata": {},
   "source": [
    "### Parte 1\n",
    "Realizar un modelo de regresión logistica que sea capaz de, dada la expresión genética de 482 genes realice una predicción de si el tejido es canceroso o no:\n",
    "* Pintar curva ROC\n",
    "* Para un umbral de 0 calcular:\n",
    " * Precisión\n",
    " * F0.5\n",
    " * Exactitud\n",
    " * Exhaustividad\n",
    " * Matriz de confusión\n",
    " "
   ]
  },
  {
   "cell_type": "code",
   "execution_count": 38,
   "metadata": {},
   "outputs": [
    {
     "data": {
      "text/html": [
       "<table>\n",
       "<thead><tr><th scope=col>X212284_x_at</th><th scope=col>X212869_x_at</th><th scope=col>X213614_x_at</th><th scope=col>X212391_x_at</th><th scope=col>X201257_x_at</th><th scope=col>AFFX.hum_alu_at</th><th scope=col>X206559_x_at</th><th scope=col>X214003_x_at</th><th scope=col>X208755_x_at</th><th scope=col>X200062_s_at</th><th scope=col>...</th><th scope=col>X216660_at</th><th scope=col>X217101_at</th><th scope=col>X218922_s_at</th><th scope=col>X203953_s_at</th><th scope=col>X221755_at</th><th scope=col>X208278_s_at</th><th scope=col>X207162_s_at</th><th scope=col>X206824_at</th><th scope=col>X218840_s_at</th><th scope=col>diagnosis</th></tr></thead>\n",
       "<tbody>\n",
       "\t<tr><td>-0.6068573 </td><td>-1.02303975</td><td>-0.5878681 </td><td>-0.70458754</td><td>-0.4870628 </td><td>-0.5981818 </td><td>-1.0468240 </td><td>-1.11345722</td><td>-0.1731209 </td><td>-1.16301307</td><td>...        </td><td>-0.3480473 </td><td>-0.4267964 </td><td>-0.3357943 </td><td>-0.5709978 </td><td>-0.6923526 </td><td>-0.4120570 </td><td>-0.4092972 </td><td> 1.5176937 </td><td>-0.16249306</td><td>N          </td></tr>\n",
       "\t<tr><td>-0.1727236 </td><td> 0.04000518</td><td>-0.1604944 </td><td> 0.08466742</td><td> 0.2924008 </td><td>-0.3718649 </td><td>-0.1419996 </td><td>-0.04807841</td><td>-0.2977776 </td><td>-0.00754408</td><td>...        </td><td> 0.9775076 </td><td>-0.9261639 </td><td>-1.4005432 </td><td>-0.5360644 </td><td>-0.9679607 </td><td>-1.1016441 </td><td>-0.3465632 </td><td> 0.9096190 </td><td>-0.14729511</td><td>C          </td></tr>\n",
       "\t<tr><td>-0.9472612 </td><td>-1.39421666</td><td>-0.6030510 </td><td>-0.88556176</td><td>-0.9046498 </td><td>-0.5548790 </td><td>-0.7514226 </td><td>-1.10737355</td><td>-0.8967592 </td><td>-1.08050403</td><td>...        </td><td>-0.4443742 </td><td>-0.5773193 </td><td>-0.2305764 </td><td>-0.5211235 </td><td>-0.4658521 </td><td>-0.8190931 </td><td>-0.4677517 </td><td>-0.5667981 </td><td>-0.06760471</td><td>N          </td></tr>\n",
       "\t<tr><td>-0.6322249 </td><td>-0.57062937</td><td>-0.6062566 </td><td>-0.37136197</td><td>-0.4054218 </td><td>-0.2199636 </td><td>-0.5222803 </td><td>-0.85223967</td><td> 0.0572991 </td><td>-0.80758487</td><td>...        </td><td>-0.3992954 </td><td>-0.7322822 </td><td>-0.9018507 </td><td>-0.2654248 </td><td>-0.5231062 </td><td>-0.5652286 </td><td>-0.5790853 </td><td> 0.2096817 </td><td>-0.16111645</td><td>C          </td></tr>\n",
       "\t<tr><td>-0.6542970 </td><td>-0.74248078</td><td>-0.9462542 </td><td>-0.71549449</td><td>-0.8126294 </td><td>-0.5684461 </td><td>-0.7578536 </td><td>-0.52281389</td><td>-0.7655418 </td><td>-0.79423415</td><td>...        </td><td>-0.4026722 </td><td> 0.5097343 </td><td>-0.2999997 </td><td>-0.1821947 </td><td>-0.1829361 </td><td>-0.4101850 </td><td>-0.4708336 </td><td>-0.1790570 </td><td>-0.11459696</td><td>N          </td></tr>\n",
       "\t<tr><td>-0.8607874 </td><td>-1.04780538</td><td>-0.9521076 </td><td>-0.96258861</td><td>-1.1246744 </td><td>-0.5356547 </td><td>-0.9842660 </td><td>-1.03645556</td><td>-0.8706110 </td><td>-1.24779836</td><td>...        </td><td> 0.8596355 </td><td> 0.1113232 </td><td>-0.8926497 </td><td> 0.2500582 </td><td>-0.5011580 </td><td>-0.1893422 </td><td>-0.5395743 </td><td>-0.7577187 </td><td>-0.16595445</td><td>C          </td></tr>\n",
       "</tbody>\n",
       "</table>\n"
      ],
      "text/latex": [
       "\\begin{tabular}{r|llllllllllllllllllllllllllllllllllllllllllllllllllllllllllllllllllllllllllllllllllllllllllllllllllllllllllllllllllllllllllllllllllllllllllllllllllllllllllllllllllllllllllllllllllllllllllllllllllllllllllllllllllllllllllllllllllllllllllllllllllllllllllllllllllllllllllllllllllllllllllllllllllllllllllllllllllllllllllllllllllllllllllllllllllllllllllllllllllllllllllllllllllllllllllllllllllllllllllllllllllllllllllllllllllllllllllllllllllllllllllllllllllllllllllllllllllllllllllllllllll}\n",
       " X212284\\_x\\_at & X212869\\_x\\_at & X213614\\_x\\_at & X212391\\_x\\_at & X201257\\_x\\_at & AFFX.hum\\_alu\\_at & X206559\\_x\\_at & X214003\\_x\\_at & X208755\\_x\\_at & X200062\\_s\\_at & ... & X216660\\_at & X217101\\_at & X218922\\_s\\_at & X203953\\_s\\_at & X221755\\_at & X208278\\_s\\_at & X207162\\_s\\_at & X206824\\_at & X218840\\_s\\_at & diagnosis\\\\\n",
       "\\hline\n",
       "\t -0.6068573  & -1.02303975 & -0.5878681  & -0.70458754 & -0.4870628  & -0.5981818  & -1.0468240  & -1.11345722 & -0.1731209  & -1.16301307 & ...         & -0.3480473  & -0.4267964  & -0.3357943  & -0.5709978  & -0.6923526  & -0.4120570  & -0.4092972  &  1.5176937  & -0.16249306 & N          \\\\\n",
       "\t -0.1727236  &  0.04000518 & -0.1604944  &  0.08466742 &  0.2924008  & -0.3718649  & -0.1419996  & -0.04807841 & -0.2977776  & -0.00754408 & ...         &  0.9775076  & -0.9261639  & -1.4005432  & -0.5360644  & -0.9679607  & -1.1016441  & -0.3465632  &  0.9096190  & -0.14729511 & C          \\\\\n",
       "\t -0.9472612  & -1.39421666 & -0.6030510  & -0.88556176 & -0.9046498  & -0.5548790  & -0.7514226  & -1.10737355 & -0.8967592  & -1.08050403 & ...         & -0.4443742  & -0.5773193  & -0.2305764  & -0.5211235  & -0.4658521  & -0.8190931  & -0.4677517  & -0.5667981  & -0.06760471 & N          \\\\\n",
       "\t -0.6322249  & -0.57062937 & -0.6062566  & -0.37136197 & -0.4054218  & -0.2199636  & -0.5222803  & -0.85223967 &  0.0572991  & -0.80758487 & ...         & -0.3992954  & -0.7322822  & -0.9018507  & -0.2654248  & -0.5231062  & -0.5652286  & -0.5790853  &  0.2096817  & -0.16111645 & C          \\\\\n",
       "\t -0.6542970  & -0.74248078 & -0.9462542  & -0.71549449 & -0.8126294  & -0.5684461  & -0.7578536  & -0.52281389 & -0.7655418  & -0.79423415 & ...         & -0.4026722  &  0.5097343  & -0.2999997  & -0.1821947  & -0.1829361  & -0.4101850  & -0.4708336  & -0.1790570  & -0.11459696 & N          \\\\\n",
       "\t -0.8607874  & -1.04780538 & -0.9521076  & -0.96258861 & -1.1246744  & -0.5356547  & -0.9842660  & -1.03645556 & -0.8706110  & -1.24779836 & ...         &  0.8596355  &  0.1113232  & -0.8926497  &  0.2500582  & -0.5011580  & -0.1893422  & -0.5395743  & -0.7577187  & -0.16595445 & C          \\\\\n",
       "\\end{tabular}\n"
      ],
      "text/markdown": [
       "\n",
       "X212284_x_at | X212869_x_at | X213614_x_at | X212391_x_at | X201257_x_at | AFFX.hum_alu_at | X206559_x_at | X214003_x_at | X208755_x_at | X200062_s_at | ... | X216660_at | X217101_at | X218922_s_at | X203953_s_at | X221755_at | X208278_s_at | X207162_s_at | X206824_at | X218840_s_at | diagnosis | \n",
       "|---|---|---|---|---|---|\n",
       "| -0.6068573  | -1.02303975 | -0.5878681  | -0.70458754 | -0.4870628  | -0.5981818  | -1.0468240  | -1.11345722 | -0.1731209  | -1.16301307 | ...         | -0.3480473  | -0.4267964  | -0.3357943  | -0.5709978  | -0.6923526  | -0.4120570  | -0.4092972  |  1.5176937  | -0.16249306 | N           | \n",
       "| -0.1727236  |  0.04000518 | -0.1604944  |  0.08466742 |  0.2924008  | -0.3718649  | -0.1419996  | -0.04807841 | -0.2977776  | -0.00754408 | ...         |  0.9775076  | -0.9261639  | -1.4005432  | -0.5360644  | -0.9679607  | -1.1016441  | -0.3465632  |  0.9096190  | -0.14729511 | C           | \n",
       "| -0.9472612  | -1.39421666 | -0.6030510  | -0.88556176 | -0.9046498  | -0.5548790  | -0.7514226  | -1.10737355 | -0.8967592  | -1.08050403 | ...         | -0.4443742  | -0.5773193  | -0.2305764  | -0.5211235  | -0.4658521  | -0.8190931  | -0.4677517  | -0.5667981  | -0.06760471 | N           | \n",
       "| -0.6322249  | -0.57062937 | -0.6062566  | -0.37136197 | -0.4054218  | -0.2199636  | -0.5222803  | -0.85223967 |  0.0572991  | -0.80758487 | ...         | -0.3992954  | -0.7322822  | -0.9018507  | -0.2654248  | -0.5231062  | -0.5652286  | -0.5790853  |  0.2096817  | -0.16111645 | C           | \n",
       "| -0.6542970  | -0.74248078 | -0.9462542  | -0.71549449 | -0.8126294  | -0.5684461  | -0.7578536  | -0.52281389 | -0.7655418  | -0.79423415 | ...         | -0.4026722  |  0.5097343  | -0.2999997  | -0.1821947  | -0.1829361  | -0.4101850  | -0.4708336  | -0.1790570  | -0.11459696 | N           | \n",
       "| -0.8607874  | -1.04780538 | -0.9521076  | -0.96258861 | -1.1246744  | -0.5356547  | -0.9842660  | -1.03645556 | -0.8706110  | -1.24779836 | ...         |  0.8596355  |  0.1113232  | -0.8926497  |  0.2500582  | -0.5011580  | -0.1893422  | -0.5395743  | -0.7577187  | -0.16595445 | C           | \n",
       "\n",
       "\n"
      ],
      "text/plain": [
       "  X212284_x_at X212869_x_at X213614_x_at X212391_x_at X201257_x_at\n",
       "1 -0.6068573   -1.02303975  -0.5878681   -0.70458754  -0.4870628  \n",
       "2 -0.1727236    0.04000518  -0.1604944    0.08466742   0.2924008  \n",
       "3 -0.9472612   -1.39421666  -0.6030510   -0.88556176  -0.9046498  \n",
       "4 -0.6322249   -0.57062937  -0.6062566   -0.37136197  -0.4054218  \n",
       "5 -0.6542970   -0.74248078  -0.9462542   -0.71549449  -0.8126294  \n",
       "6 -0.8607874   -1.04780538  -0.9521076   -0.96258861  -1.1246744  \n",
       "  AFFX.hum_alu_at X206559_x_at X214003_x_at X208755_x_at X200062_s_at ...\n",
       "1 -0.5981818      -1.0468240   -1.11345722  -0.1731209   -1.16301307  ...\n",
       "2 -0.3718649      -0.1419996   -0.04807841  -0.2977776   -0.00754408  ...\n",
       "3 -0.5548790      -0.7514226   -1.10737355  -0.8967592   -1.08050403  ...\n",
       "4 -0.2199636      -0.5222803   -0.85223967   0.0572991   -0.80758487  ...\n",
       "5 -0.5684461      -0.7578536   -0.52281389  -0.7655418   -0.79423415  ...\n",
       "6 -0.5356547      -0.9842660   -1.03645556  -0.8706110   -1.24779836  ...\n",
       "  X216660_at X217101_at X218922_s_at X203953_s_at X221755_at X208278_s_at\n",
       "1 -0.3480473 -0.4267964 -0.3357943   -0.5709978   -0.6923526 -0.4120570  \n",
       "2  0.9775076 -0.9261639 -1.4005432   -0.5360644   -0.9679607 -1.1016441  \n",
       "3 -0.4443742 -0.5773193 -0.2305764   -0.5211235   -0.4658521 -0.8190931  \n",
       "4 -0.3992954 -0.7322822 -0.9018507   -0.2654248   -0.5231062 -0.5652286  \n",
       "5 -0.4026722  0.5097343 -0.2999997   -0.1821947   -0.1829361 -0.4101850  \n",
       "6  0.8596355  0.1113232 -0.8926497    0.2500582   -0.5011580 -0.1893422  \n",
       "  X207162_s_at X206824_at X218840_s_at diagnosis\n",
       "1 -0.4092972    1.5176937 -0.16249306  N        \n",
       "2 -0.3465632    0.9096190 -0.14729511  C        \n",
       "3 -0.4677517   -0.5667981 -0.06760471  N        \n",
       "4 -0.5790853    0.2096817 -0.16111645  C        \n",
       "5 -0.4708336   -0.1790570 -0.11459696  N        \n",
       "6 -0.5395743   -0.7577187 -0.16595445  C        "
      ]
     },
     "metadata": {},
     "output_type": "display_data"
    },
    {
     "name": "stderr",
     "output_type": "stream",
     "text": [
      "Warning message in predict.lm(object, newdata, se.fit, scale = 1, type = ifelse(type == :\n",
      "\"prediction from a rank-deficient fit may be misleading\""
     ]
    },
    {
     "data": {
      "text/plain": [
       "   Min. 1st Qu.  Median    Mean 3rd Qu.    Max. \n",
       "-259.37  -74.26   17.39   43.27  136.25  578.57 "
      ]
     },
     "metadata": {},
     "output_type": "display_data"
    },
    {
     "data": {
      "text/html": [
       "'Precision: 0.666666666666667'"
      ],
      "text/latex": [
       "'Precision: 0.666666666666667'"
      ],
      "text/markdown": [
       "'Precision: 0.666666666666667'"
      ],
      "text/plain": [
       "[1] \"Precision: 0.666666666666667\""
      ]
     },
     "metadata": {},
     "output_type": "display_data"
    },
    {
     "data": {
      "text/html": [
       "'Exhausitivad: 0.666666666666667'"
      ],
      "text/latex": [
       "'Exhausitivad: 0.666666666666667'"
      ],
      "text/markdown": [
       "'Exhausitivad: 0.666666666666667'"
      ],
      "text/plain": [
       "[1] \"Exhausitivad: 0.666666666666667\""
      ]
     },
     "metadata": {},
     "output_type": "display_data"
    },
    {
     "data": {
      "text/html": [
       "'Exactitud: 0.692307692307692'"
      ],
      "text/latex": [
       "'Exactitud: 0.692307692307692'"
      ],
      "text/markdown": [
       "'Exactitud: 0.692307692307692'"
      ],
      "text/plain": [
       "[1] \"Exactitud: 0.692307692307692\""
      ]
     },
     "metadata": {},
     "output_type": "display_data"
    },
    {
     "data": {
      "text/html": [
       "0.666666666666667"
      ],
      "text/latex": [
       "0.666666666666667"
      ],
      "text/markdown": [
       "0.666666666666667"
      ],
      "text/plain": [
       "[1] 0.6666667"
      ]
     },
     "metadata": {},
     "output_type": "display_data"
    }
   ],
   "source": [
    "genexpSinNormalizar<-genexp\n",
    "#normalizamos, no incluyo la primera columna X donde dice si es Normal ó Cancer\n",
    "for (i in 2:ncol(genexpSinNormalizar)){\n",
    "    mn<- mean(genexp[,i],na.rm=T)\n",
    "    sd<- sd(genexp[,i],na.rm=T)\n",
    "    genexp[is.na(genexp[,i]),i]<-mn\n",
    "    genexp[,i]<-(genexp[,i]-mn)/sd\n",
    "}\n",
    "#genexp queda normalizado, lo salvo en otra variable ya que lo utilizare mas tarde tambien\n",
    "genexp1<-genexp\n",
    "genexp1$diagnosis[grepl(\"Cancer\", genexp1$X, ignore.case=TRUE)]<- \"C\"\n",
    "genexp1$diagnosis[grepl(\"Normal\", genexp1$X, ignore.case=TRUE)]<- \"N\"\n",
    "genexp1$diagnosis<-as.factor(genexp1$diagnosis)\n",
    "genexp1<-genexp1[,2:ncol(genexp1)]\n",
    "head(genexp1)\n",
    "idx1<-sample(1:nrow(genexp1),nrow(genexp1)*0.7)\n",
    "genexp1.train<-genexp1[idx1,]\n",
    "genexp1.test<-genexp1[-idx1,]\n",
    "\n",
    "model_genexp1<-glm(data=genexp1.train,formula=diagnosis~.,family=binomial(link='logit'))   \n",
    "\n",
    "y_predict1<-predict(model_genexp1, genexp1.test)\n",
    "summary(y_predict1)\n",
    "y_factor1<-as.factor(ifelse(y_predict1<0,\"C\",\"N\"))\n",
    "mc<-table(y_factor1,genexp1.test$diagnosis)\n",
    "paste(\"Precision:\", mc[1,1]/(mc[1,2]+mc[1,1]))\n",
    "paste(\"Exhausitivad:\", mc[1,1]/(mc[2,1]+mc[1,1]))\n",
    "paste(\"Exactitud:\",(mc[1,1]+mc[2,2])/sum(sum(mc)))\n",
    "p<-mc[1,1]/(mc[1,2]+mc[1,1])\n",
    "e<-mc[1,1]/(mc[2,1]+mc[1,1])\n",
    "b<-0.5\n",
    "(1+b^2)*(p*e)/(b^2*p+e)\n"
   ]
  },
  {
   "cell_type": "markdown",
   "metadata": {},
   "source": [
    "### Parte 2\n",
    "\n",
    "Realizar clusterización por k-means y uno basado en áboles (dendrograma). ¿Cual sería el número de clusters óptimo?  ¿Puedes identificar algún cluster interesante?"
   ]
  },
  {
   "cell_type": "code",
   "execution_count": 10,
   "metadata": {},
   "outputs": [
    {
     "data": {
      "image/png": "[encoded data removed]",
      "text/plain": [
       "plot without title"
      ]
     },
     "metadata": {},
     "output_type": "display_data"
    }
   ],
   "source": [
    "#genexp ya esta normalizado de arriba\n",
    "genexp2<-genexp[,2:ncol(genexp)]\n",
    "\n",
    "myclust2<-kmeans(genexp2,5)\n",
    "\n",
    "q2<-c()\n",
    "for (k in 1:20){\n",
    "    myclust2<-kmeans(genexp2,k)\n",
    "    q2[k]<-myclust2$betweenss/myclust2$totss\n",
    "}\n",
    "plot(q2)\n",
    "#table(genexp$class, myclust2$cluster)"
   ]
  },
  {
   "cell_type": "code",
   "execution_count": 11,
   "metadata": {},
   "outputs": [
    {
     "data": {
      "image/png": "[encoded data removed]",
      "text/plain": [
       "plot without title"
      ]
     },
     "metadata": {},
     "output_type": "display_data"
    }
   ],
   "source": [
    "d <- dist(as.matrix(genexp2),method = \"euclidean\")\n",
    "hc <- hclust(d,method=\"complete\")\n",
    "hcd <- as.dendrogram(hc)\n",
    "plot(cut(hcd,h=20)$upper)"
   ]
  },
  {
   "cell_type": "markdown",
   "metadata": {},
   "source": [
    "### Parte 3\n",
    "\n",
    "Realizar un PCA, quedarse con los dos valores más representativos. Pintarlo en una nube de puntos donde los tejidos normales tendrán un color y los tejidos con cancer otro.\n",
    "\n",
    "A partir de esta representación simplificada (con solo 2 valores más significativos) crear un modelo de regresión logística. Compara la curva ROC de este nuevo modelo con el de la *Parte 1*"
   ]
  },
  {
   "cell_type": "code",
   "execution_count": 13,
   "metadata": {},
   "outputs": [
    {
     "data": {
      "image/png": "[encoded data removed]",
      "text/plain": [
       "plot without title"
      ]
     },
     "metadata": {},
     "output_type": "display_data"
    }
   ],
   "source": [
    "#Utilizamos prcomp para calcular el pca\n",
    "genexp3<-genexpSinNormalizar[,2:ncol(genexpSinNormalizar)]\n",
    "prgenexp<-prcomp(genexp3, center=TRUE, scale. = TRUE)\n",
    "plot(prgenexp$sdev^2/sum(prgenexp$sdev^2))\n"
   ]
  },
  {
   "cell_type": "code",
   "execution_count": 30,
   "metadata": {},
   "outputs": [
    {
     "data": {
      "text/html": [
       "<table>\n",
       "<thead><tr><th scope=col>PC1</th><th scope=col>PC2</th><th scope=col>diagnosis</th></tr></thead>\n",
       "<tbody>\n",
       "\t<tr><td>-15.943631</td><td> 2.9012870</td><td>N         </td></tr>\n",
       "\t<tr><td> -8.738585</td><td>-9.6768034</td><td>C         </td></tr>\n",
       "\t<tr><td>-14.384371</td><td> 3.4423130</td><td>N         </td></tr>\n",
       "\t<tr><td>-11.600260</td><td>-2.4953920</td><td>C         </td></tr>\n",
       "\t<tr><td>-11.359176</td><td> 4.2280798</td><td>N         </td></tr>\n",
       "\t<tr><td>-13.697708</td><td>-0.6846294</td><td>C         </td></tr>\n",
       "</tbody>\n",
       "</table>\n"
      ],
      "text/latex": [
       "\\begin{tabular}{r|lll}\n",
       " PC1 & PC2 & diagnosis\\\\\n",
       "\\hline\n",
       "\t -15.943631 &  2.9012870 & N         \\\\\n",
       "\t  -8.738585 & -9.6768034 & C         \\\\\n",
       "\t -14.384371 &  3.4423130 & N         \\\\\n",
       "\t -11.600260 & -2.4953920 & C         \\\\\n",
       "\t -11.359176 &  4.2280798 & N         \\\\\n",
       "\t -13.697708 & -0.6846294 & C         \\\\\n",
       "\\end{tabular}\n"
      ],
      "text/markdown": [
       "\n",
       "PC1 | PC2 | diagnosis | \n",
       "|---|---|---|---|---|---|\n",
       "| -15.943631 |  2.9012870 | N          | \n",
       "|  -8.738585 | -9.6768034 | C          | \n",
       "| -14.384371 |  3.4423130 | N          | \n",
       "| -11.600260 | -2.4953920 | C          | \n",
       "| -11.359176 |  4.2280798 | N          | \n",
       "| -13.697708 | -0.6846294 | C          | \n",
       "\n",
       "\n"
      ],
      "text/plain": [
       "  PC1        PC2        diagnosis\n",
       "1 -15.943631  2.9012870 N        \n",
       "2  -8.738585 -9.6768034 C        \n",
       "3 -14.384371  3.4423130 N        \n",
       "4 -11.600260 -2.4953920 C        \n",
       "5 -11.359176  4.2280798 N        \n",
       "6 -13.697708 -0.6846294 C        "
      ]
     },
     "metadata": {},
     "output_type": "display_data"
    },
    {
     "data": {
      "text/plain": [
       "         \n",
       "y_factor4 C N\n",
       "        C 8 7\n",
       "        N 6 5"
      ]
     },
     "metadata": {},
     "output_type": "display_data"
    }
   ],
   "source": [
    "pca_data<-as.data.frame(prgenexp$x[,1:2])\n",
    "genexp$diagnosis[grep(\"Cancer\", genexp$X, ignore.case=TRUE)]<- \"C\"\n",
    "genexp$diagnosis[grep(\"Normal\", genexp$X, ignore.case=TRUE)]<- \"N\"\n",
    "pca_data$diagnosis<-as.factor(genexp$diagnosis)\n",
    "head(pca_data)\n",
    "idx<-sample(1:nrow(pca_data),nrow(pca_data)*0.7)\n",
    "genexp4.train_norm<-pca_data[idx,]\n",
    "genexp4.test_norm<-pca_data[-idx,]\n",
    "\n",
    "model_genexp4<-glm(data=genexp4.train_norm,formula = diagnosis ~ ., family=binomial(link='logit'))\n",
    "\n",
    "y_predict4 <- predict(model_genexp4, genexp4.test_norm)\n",
    "y_factor4<-as.factor(ifelse(y_predict4<0,\"N\",\"C\"))\n",
    "\n",
    "table(y_factor4,genexp4.test_norm$diagnosis)"
   ]
  },
  {
   "cell_type": "code",
   "execution_count": 23,
   "metadata": {},
   "outputs": [
    {
     "name": "stdout",
     "output_type": "stream",
     "text": [
      "'data.frame':\t86 obs. of  3 variables:\n",
      " $ PC1      : num  -15.94 -8.74 -14.38 -11.6 -11.36 ...\n",
      " $ PC2      : num  2.9 -9.68 3.44 -2.5 4.23 ...\n",
      " $ diagnosis: Factor w/ 2 levels \"C\",\"N\": 2 1 2 1 2 1 2 1 2 1 ...\n"
     ]
    }
   ],
   "source": [
    "str(pca_data)"
   ]
  },
  {
   "cell_type": "code",
   "execution_count": 24,
   "metadata": {},
   "outputs": [
    {
     "data": {
      "text/plain": [
       "   \n",
       "     1  2\n",
       "  C 19 24\n",
       "  N 23 20"
      ]
     },
     "metadata": {},
     "output_type": "display_data"
    },
    {
     "data": {
      "image/png": "[encoded data removed]",
      "text/plain": [
       "plot without title"
      ]
     },
     "metadata": {},
     "output_type": "display_data"
    }
   ],
   "source": [
    "myclustpca<-kmeans(pca_data[,1:2],2)\n",
    "\n",
    "plot(pca_data$PC1,pca_data$PC2,col=myclustpca$cluster)\n",
    "text(x=myclustpca$centers[,1], y=myclustpca$centers[,2], cex=1, pos=4, labels=(1:nrow(myclustpca$centers)),col=\"blue\")\n",
    "table(pca_data$diagnosis,myclustpca$cluster)"
   ]
  }
 ],
 "metadata": {
  "kernelspec": {
   "display_name": "R",
   "language": "R",
   "name": "ir"
  },
  "language_info": {
   "codemirror_mode": "r",
   "file_extension": ".r",
   "mimetype": "text/x-r-source",
   "name": "R",
   "pygments_lexer": "r",
   "version": "3.4.3"
  }
 },
 "nbformat": 4,
 "nbformat_minor": 2
}
